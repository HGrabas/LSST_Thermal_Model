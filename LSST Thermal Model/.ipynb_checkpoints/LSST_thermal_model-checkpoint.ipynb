{
 "cells": [
  {
   "cell_type": "markdown",
   "metadata": {},
   "source": [
    "# 3.\tAcronyms\n",
    "ADC\tAnalog to Digital Converter\n",
    "CCD\tCharge Coupled Device, aka sensor\n",
    "REB\tRaft Electronics Board\n",
    "ASPIC\tDual slope integrating ASIC\n",
    "CABAC\tClock And BiAs Control ASIC\n",
    "PREG\tPower Regulator\n",
    "RTM\tRaft Tower Module\n",
    "REC\tRaft Electronics Crate\n",
    "FEA\tFinite Element Analysis"
   ]
  },
  {
   "cell_type": "markdown",
   "metadata": {},
   "source": [
    "# Purpose and scope\n",
    "This note describes an analysis of the thermal control the Raft Tower Modules (RTMs) using the electronics simulation tool Spice. This note is primarily focused on describing how the tool is used and its input assumptions. The most critical analysis results will also be presented."
   ]
  },
  {
   "cell_type": "markdown",
   "metadata": {},
   "source": [
    "# The issue\n",
    "Maintaining the sensor array at the desired temperature and keeping that temperature constant between calibrations is critical to meeting the LSST’s science requirements. Our ability to do this is among the most serious of our outstanding risks. The Science Raft specification calls for a sensor temperature stability of 0.25 K over a twelve hour observing period and a stability of 1 K for the cold plate over that same period. The cryostat specification calls for a stability of 1 K for the cryo plate. The Science Raft specification for the sensor temperature  is –100+-5 C. The cryostat specification calls for a cryo plate temperature of -130 C. "
   ]
  },
  {
   "cell_type": "markdown",
   "metadata": {},
   "source": [
    "# The method\n",
    "NgSpice (a open version of Spice)  is an electronics simulation tool. A thermal system is a perfect analog of an electrical one so PSpice may be used to simulate it. The analog quantities are:\n",
    "•\tPotential in Volts is the analog of absolute temperature in Kelvin.\n",
    "•\tCurrent in Amperes is the analog of heat flow in Watts. \n",
    "•\tCapacitance in Farads is the analog of heat capacity in J/K.\n",
    "•\tResistance in Ohms is the analog of thermal impedance in K/W. \n",
    "•\tHeat sinks are represented by voltage sources.\n",
    "•\tHeat sources are represented by current sources. \n",
    "Large chunks of material are represented as distributed RC networks (very lossy transmission lines) specified by their total heat capacity and their effective end to end thermal impedance. We choose to break these large chunks into 8 equal pieces. The heat capacities are taken from a table derived from a 3D ANSYS simulation. The thermal impedances are inferred from the static thermal solution from that same model as are the resistances that represent the thermal-contact impedances. See the Excel spread sheet, REB_1-D_Model_10-08-2014_revA, from Steve with help from Jessica Li. We entered the description of the system using the schematic capture tool ORCAD Capture. \n",
    "More complicated objects and connections are represented by Analog Behavioral Models, i.e., boxes executing algebraic functions. These are used to describe non-conductive (radiative and convective) heat transfer, implement lookup tables representing refrigerators, and perform integration.\n",
    "The resulting model is a multiply connected 1 D network. Effects included in the model are:\n",
    "•\tAll known components in one RTM (3 REBs treated as a single larger one).\n",
    "•\tAll radiative heat paths \n",
    "•\tAll conductive heat paths\n",
    "•\tCryo and cold refrigerator behavior\n",
    "•\tProportional Integral (PI) control loops ( sensors, cryo-plate, cold plate)\n",
    "•\tAssumes high quality heat shields over the REBs (e.g., gold flashed Cu foil).\n",
    "Some limitations are:\n",
    "•\tEmissivities are not temperature dependent\n",
    "•\tHeat capacities and resistivities are not temperature dependent\n",
    "•\tSome emissivities are not well known\n",
    "•\tCryo refrigeration performance may be different\n",
    "•\tRefrigerator performance is not dependent on the ambient temperature.\n",
    "•\tCannot evaluate differences across the raft as the sensors are treated as one lump.\n",
    "•\tAssumes effects such as radiation from the cryostat are uniform over all RTMs. Differences are estimated to be small. \n",
    "•\tAlso assumes that the full system is 22.3 science rafts, i.e., that the corner rafts are one third of a science raft. This is an underestimate, and a value between 23 and 24 would have been better. This difference has small, partially offsetting, effects on several parameters.\n",
    "There are two main heat flow paths defined by their respective primary heat sinks, the cryo plate and the cold plate. We will now describe each circuit in detail.\n"
   ]
  },
  {
   "cell_type": "code",
   "execution_count": 2,
   "metadata": {},
   "outputs": [
    {
     "name": "stdout",
     "output_type": "stream",
     "text": [
      "test\n"
     ]
    }
   ],
   "source": [
    "print(\"test\")"
   ]
  },
  {
   "cell_type": "code",
   "execution_count": null,
   "metadata": {},
   "outputs": [],
   "source": []
  },
  {
   "cell_type": "code",
   "execution_count": null,
   "metadata": {},
   "outputs": [],
   "source": []
  }
 ],
 "metadata": {
  "kernelspec": {
   "display_name": "Python 3",
   "language": "python",
   "name": "python3"
  },
  "language_info": {
   "codemirror_mode": {
    "name": "ipython",
    "version": 3
   },
   "file_extension": ".py",
   "mimetype": "text/x-python",
   "name": "python",
   "nbconvert_exporter": "python",
   "pygments_lexer": "ipython3",
   "version": "3.6.4"
  }
 },
 "nbformat": 4,
 "nbformat_minor": 2
}
